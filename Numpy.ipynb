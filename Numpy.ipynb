{
  "nbformat": 4,
  "nbformat_minor": 0,
  "metadata": {
    "colab": {
      "provenance": []
    },
    "kernelspec": {
      "display_name": "Python 3",
      "language": "python",
      "name": "python3"
    },
    "language_info": {
      "codemirror_mode": {
        "name": "ipython",
        "version": 3
      },
      "file_extension": ".py",
      "mimetype": "text/x-python",
      "name": "python",
      "nbconvert_exporter": "python",
      "pygments_lexer": "ipython3",
      "version": "3.7.3"
    }
  },
  "cells": [
    {
      "cell_type": "markdown",
      "metadata": {
        "id": "5_eFZpeoK7k2"
      },
      "source": [
        "# Numpy\n",
        "### Если задания покажутся сложными, рекомендую пройти краткий курс по основам numpy [ссылка1](https://stepik.org/lesson/241329/step/1?unit=213910), [ссылка2](https://stepik.org/lesson/16462/step/1?unit=4283)"
      ]
    },
    {
      "cell_type": "code",
      "metadata": {
        "id": "YEJ8DQ4QK7kx"
      },
      "source": [
        "import numpy as np\n",
        "import random\n",
        "import scipy.stats as sps\n",
        "import cv2\n"
      ],
      "execution_count": null,
      "outputs": []
    },
    {
      "cell_type": "markdown",
      "metadata": {
        "id": "hYXhVX0eK7k2"
      },
      "source": [
        "### Задание 1\n",
        "В первой задаче вам предлагается перемножить две квадратные матрицы двумя способами -- без использования пакета ***numpy*** и с ним."
      ]
    },
    {
      "cell_type": "code",
      "metadata": {
        "id": "zJR8EANzK7k3"
      },
      "source": [
        "#заменил на целочисленное генерацию, тк при умножении матриц вещественных чисел, \n",
        "#накапливается погрешность и не будет пройдена проверка на корректность \n",
        "a = np.random.randint(0, 100000, (100, 100))\n",
        "b = np.random.randint(0, 100000, (100, 100))\n"
      ],
      "execution_count": null,
      "outputs": []
    },
    {
      "cell_type": "code",
      "metadata": {
        "id": "bkWCI4TPK7k8"
      },
      "source": [
        "def mult(a, b):\n",
        "  shape = b.shape[0]\n",
        "  res = np.zeros((shape, shape))\n",
        "  for i in range(shape):\n",
        "    for j in range(shape):\n",
        "      for k in range(shape):\n",
        "        res[i][j] += a[i][k]*b[k][j]\n",
        "  return res"
      ],
      "execution_count": null,
      "outputs": []
    },
    {
      "cell_type": "code",
      "metadata": {
        "id": "IIgYD1W5K7lB"
      },
      "source": [
        "def np_mult(a, b):\n",
        "    return a.dot(b)"
      ],
      "execution_count": null,
      "outputs": []
    },
    {
      "cell_type": "code",
      "metadata": {
        "id": "tktkYzUHK7lE",
        "outputId": "9448dbcb-c163-41a4-a27f-9b662101186c",
        "colab": {
          "base_uri": "https://localhost:8080/"
        }
      },
      "source": [
        "%time M1 = mult(a, b) # засечем время работы функции без NumPy\n",
        "%time M2 = np_mult(a, b) # засечем время работы функции с NumPy\n",
        "#прирост в скорости в 144 раза"
      ],
      "execution_count": null,
      "outputs": [
        {
          "output_type": "stream",
          "name": "stdout",
          "text": [
            "CPU times: user 1.09 s, sys: 2.96 ms, total: 1.09 s\n",
            "Wall time: 1.15 s\n",
            "CPU times: user 2.73 ms, sys: 0 ns, total: 2.73 ms\n",
            "Wall time: 7.96 ms\n"
          ]
        }
      ]
    },
    {
      "cell_type": "code",
      "metadata": {
        "id": "oftqyANQK7lS",
        "outputId": "7900e353-85de-4e11-c579-3698b0207efe",
        "colab": {
          "base_uri": "https://localhost:8080/"
        }
      },
      "source": [
        "# проверим корректность\n",
        "np.abs(np.array(M1) - M2).sum()"
      ],
      "execution_count": null,
      "outputs": [
        {
          "output_type": "execute_result",
          "data": {
            "text/plain": [
              "0.0"
            ]
          },
          "metadata": {},
          "execution_count": 264
        }
      ]
    },
    {
      "cell_type": "markdown",
      "metadata": {
        "id": "2itTyTlcaHAu"
      },
      "source": [
        "### Задание 2"
      ]
    },
    {
      "cell_type": "markdown",
      "metadata": {
        "id": "BCemQSq-aEbO"
      },
      "source": [
        "Вам подаются на вход два вектора `a` и `b` в трехмерном пространстве. Заполните их случайными числами. Реализуйте их скалярное произведение с помощью  `NumPy` и без. Засеките время работы, как это показано в заданиях выше."
      ]
    },
    {
      "cell_type": "code",
      "metadata": {
        "id": "lWhr_gPSZ9o_",
        "outputId": "1694018a-1860-430f-f607-0d71553fbffa",
        "colab": {
          "base_uri": "https://localhost:8080/"
        }
      },
      "source": [
        "a = np.random.randint(0, 100000, (1, 3)) # опять же сделаем генерацию целых чисел, \n",
        "a = list(a)[0]                            #чтобы была пройдена проверка на корректность\n",
        "b = np.random.randint(0, 100000, (1, 3))\n",
        "b = list(b)[0]\n",
        "print(a, b)"
      ],
      "execution_count": null,
      "outputs": [
        {
          "output_type": "stream",
          "name": "stdout",
          "text": [
            "[95534 89771 49240] [34384  1670 95256]\n"
          ]
        }
      ]
    },
    {
      "cell_type": "code",
      "metadata": {
        "id": "GjlkcHIWZ_ae"
      },
      "source": [
        "def scalar_product(a,b):\n",
        "  res = 0\n",
        "  for i in range(b.shape[0]):\n",
        "    res += a[i] * b[i]\n",
        "  return res"
      ],
      "execution_count": null,
      "outputs": []
    },
    {
      "cell_type": "code",
      "metadata": {
        "id": "C2M-OAp5Z_6a"
      },
      "source": [
        "def np_scalar_product(a,b):\n",
        "    return a.dot(b)"
      ],
      "execution_count": null,
      "outputs": []
    },
    {
      "cell_type": "code",
      "metadata": {
        "id": "BOQfYf-2aCQJ",
        "scrolled": true,
        "outputId": "4ee62b12-f5c6-4640-c032-169ecde25e23",
        "colab": {
          "base_uri": "https://localhost:8080/"
        }
      },
      "source": [
        "%time product_1 = scalar_product(a,b) # засечем время работы функции без NumPy\n",
        "%time product_2 = np_scalar_product(a,b) # засечем время работы функции с NumPy\n",
        "#прироста особого нету, тк маленькие размеры векторов"
      ],
      "execution_count": null,
      "outputs": [
        {
          "output_type": "stream",
          "name": "stdout",
          "text": [
            "CPU times: user 26 µs, sys: 3 µs, total: 29 µs\n",
            "Wall time: 33.9 µs\n",
            "CPU times: user 26 µs, sys: 0 ns, total: 26 µs\n",
            "Wall time: 28.4 µs\n"
          ]
        }
      ]
    },
    {
      "cell_type": "code",
      "source": [
        "# проверим корректность:\n",
        "np.abs(product_1 - product_2).sum()"
      ],
      "metadata": {
        "colab": {
          "base_uri": "https://localhost:8080/"
        },
        "id": "KfKaupiTZLu2",
        "outputId": "40dffa4a-12c1-4ec5-adce-ce66644e6a7d"
      },
      "execution_count": null,
      "outputs": [
        {
          "output_type": "execute_result",
          "data": {
            "text/plain": [
              "0"
            ]
          },
          "metadata": {},
          "execution_count": 296
        }
      ]
    },
    {
      "cell_type": "markdown",
      "metadata": {
        "id": "NHaHu6q1K7mH"
      },
      "source": [
        "Почему методы ***numpy*** оказываются эффективнее? Что вы можете сказать о скорости вычислений в NumPy?"
      ]
    },
    {
      "cell_type": "markdown",
      "metadata": {
        "id": "_A3p2s4eK7mI"
      },
      "source": [
        "**Ответ:** Скорость вычислений вектоных и матричных операций в NumPy сильно превосходит скорость вычислений без него, по большей части потому, что функции numpy работаю с массивами данных одного типа (числовыми), это позволяет реализовать встроенные функции numpy на C/C++, что, конечно, делает numpy быстрее (функции, которые вызывает Numpy для работы с числовыми данными, сильно оптимизированы именно под эти задачи, а сам Python просто гоняет интерпретатор по циклу в таких операциях, что является чуть ли не самым большим замедлением в работе интерпретатора)."
      ]
    },
    {
      "cell_type": "markdown",
      "metadata": {
        "id": "mJXeUuznK7lm"
      },
      "source": [
        "### Задание 3\n",
        "Напишите функцию, которая находим сумму четных диагональныех элементов квадратной матрицы. Если таких элементов нет, то вывести `0`."
      ]
    },
    {
      "cell_type": "markdown",
      "source": [
        "По условию не сказаны какие диагонали, поэтому я взял элементы главной и побочной диагонали"
      ],
      "metadata": {
        "id": "Se6nDUDoa_zs"
      }
    },
    {
      "cell_type": "code",
      "metadata": {
        "id": "MjxKxv-bQlfW"
      },
      "source": [
        "def np_diag_2k(a):\n",
        "  res = np.concatenate((np.diag(np.rot90(a)), np.diag(a)))\n",
        "  if len(a)%2 != 0: #условие если массив квадратный нечётной длины, то будет дублироваться элемент самый по центру, его  то мы и удалим\n",
        "    res = np.delete(res, len(a)//2)\n",
        "  res = res[np.where(res%2==0)]\n",
        "  if len(res)==0:\n",
        "    return 0\n",
        "  return res.sum()"
      ],
      "execution_count": null,
      "outputs": []
    },
    {
      "cell_type": "code",
      "metadata": {
        "id": "h_oazhcNQlfZ"
      },
      "source": [
        "def diag_2k(a):\n",
        "  flag = 0\n",
        "  res = 0\n",
        "  for i in range(len(a)):\n",
        "    for j in range(len(a)):\n",
        "      if (i == j or len(a)-1 - j == i) and a[i][j]%2==0:\n",
        "        res +=a [i][j]\n",
        "        flag = 1 # есть хотябы 1 элемент чётный\n",
        "\n",
        "  if flag == 0:\n",
        "    return 0\n",
        "  return res\n"
      ],
      "execution_count": null,
      "outputs": []
    },
    {
      "cell_type": "code",
      "source": [
        "a = np.random.randint(1, 10, size=(5, 5))"
      ],
      "metadata": {
        "id": "VE_08hmMCAq2"
      },
      "execution_count": null,
      "outputs": []
    },
    {
      "cell_type": "code",
      "metadata": {
        "id": "_9jg1CuWQlfc",
        "outputId": "39f28623-aa65-453f-a849-5d4c85f2696d",
        "colab": {
          "base_uri": "https://localhost:8080/"
        }
      },
      "source": [
        "%time m1 = np_diag_2k(a) # засечем время работы функции с NumPy\n",
        "%time m2 = diag_2k(a) # засечем время работы функции без NumPy\n",
        "# медленно, давайте на вход дадим больше данных"
      ],
      "execution_count": null,
      "outputs": [
        {
          "output_type": "stream",
          "name": "stdout",
          "text": [
            "CPU times: user 214 µs, sys: 0 ns, total: 214 µs\n",
            "Wall time: 221 µs\n",
            "CPU times: user 38 µs, sys: 0 ns, total: 38 µs\n",
            "Wall time: 41.2 µs\n"
          ]
        },
        {
          "output_type": "execute_result",
          "data": {
            "text/plain": [
              "18"
            ]
          },
          "metadata": {},
          "execution_count": 307
        }
      ]
    },
    {
      "cell_type": "code",
      "source": [
        "a = np.random.randint(1, 10, size=(100, 100))"
      ],
      "metadata": {
        "id": "X33-cKR7cMeM"
      },
      "execution_count": null,
      "outputs": []
    },
    {
      "cell_type": "code",
      "source": [
        "%time m1 = np_diag_2k(a) # засечем время работы функции с NumPy\n",
        "%time m2 = diag_2k(a) # засечем время работы функции без NumPy\n",
        "# так то лучше))) прирост в 15 раз"
      ],
      "metadata": {
        "colab": {
          "base_uri": "https://localhost:8080/"
        },
        "id": "0o0AG2sEcP8U",
        "outputId": "8e1392b9-9a69-4807-9d4c-659bfa2762d5"
      },
      "execution_count": null,
      "outputs": [
        {
          "output_type": "stream",
          "name": "stdout",
          "text": [
            "CPU times: user 1.13 ms, sys: 5 µs, total: 1.14 ms\n",
            "Wall time: 1.15 ms\n",
            "CPU times: user 2.91 ms, sys: 0 ns, total: 2.91 ms\n",
            "Wall time: 3.38 ms\n"
          ]
        }
      ]
    },
    {
      "cell_type": "code",
      "source": [
        "# проверим корректность:\n",
        "np.abs(m1 - m2).sum()"
      ],
      "metadata": {
        "colab": {
          "base_uri": "https://localhost:8080/"
        },
        "id": "RhXlrtmIcleG",
        "outputId": "107980a3-fe6e-40ef-ba6f-27bf0568f4d9"
      },
      "execution_count": null,
      "outputs": [
        {
          "output_type": "execute_result",
          "data": {
            "text/plain": [
              "0"
            ]
          },
          "metadata": {},
          "execution_count": 311
        }
      ]
    },
    {
      "cell_type": "markdown",
      "metadata": {
        "id": "D-N46M-tQlff"
      },
      "source": [
        "### Задание 4\n",
        "На вход дан двумерный массив $X$. Напишите функцию, которая для каждой строчки $x = (x_1, x_2, \\ldots, x_n)$ массива $X$  строит строчку $s = (s_1, s_2, \\ldots, s_n)$, где $s_k=\\frac{x_1+...+x_k}{k}$, а затем выдаёт массив из построенных строчек. Используйте библиотеку numpy (вам поможет функция cumsum). Выходом функции должен быть двумерный массив той же формы, что и $X$."
      ]
    },
    {
      "cell_type": "code",
      "metadata": {
        "id": "REgL39ksK7lr"
      },
      "source": [
        "def np_sec_av(A):\n",
        "  if len(A.shape) == 1: # это условие нужно для векторов, созданных с помощью sps.uniform.rvs, у которых форма например (1000,)\n",
        "    return np.cumsum(A) / np.array([i for i in range(1,A.shape[0]+1)])\n",
        "  return np.cumsum(A, axis=1) / np.array([i for i in range(1,A.shape[1]+1)])"
      ],
      "execution_count": null,
      "outputs": []
    },
    {
      "cell_type": "code",
      "source": [
        "def sec_av(A):\n",
        "  res = np.copy(A)\n",
        "  if len(res.shape) == 1:  # вектора sps.uniform.rvs\n",
        "    res.shape = (1,res.shape[0])\n",
        "  if res.shape[0] == 0 or res.shape[1] == 0: # одно из измерений нулевой\n",
        "    return np.random.randint(0, 100000, (0, 0))\n",
        "  for i in range(res.shape[0]):\n",
        "    buf = 0\n",
        "    for j in range(res.shape[1]):\n",
        "      buf+=res[i,j]\n",
        "      res[i,j] = buf/(j+1)\n",
        "\n",
        "  return res"
      ],
      "metadata": {
        "id": "hgzUykrUPIi_"
      },
      "execution_count": null,
      "outputs": []
    },
    {
      "cell_type": "code",
      "metadata": {
        "id": "HcVN8MagK7lw",
        "colab": {
          "base_uri": "https://localhost:8080/"
        },
        "outputId": "6537aed9-5dc7-476f-8fb5-e6f47479d297"
      },
      "source": [
        "# зададим некоторую последовательность и проверим ее на ваших функциях. \n",
        "# функция должна работать ~ в 50 раз быстрее, чем без Numpy\n",
        "A1 = sps.uniform.rvs(size=10**3) \n",
        "%time S1 = np_sec_av(A1) # засечем время работы функции с NumPy\n",
        "%time S2 = sec_av(A1) # засечем время работы функции без NumPy\n",
        "# в 6.06 раз прирост, не нашёл более быстрого вариант с помощью numpy или я слишком хорошо написал по скорости выполнения без numpy))))\n",
        "# Хочу увидеть код с приростом в 50 раз!!!!"
      ],
      "execution_count": null,
      "outputs": [
        {
          "output_type": "stream",
          "name": "stdout",
          "text": [
            "CPU times: user 184 µs, sys: 0 ns, total: 184 µs\n",
            "Wall time: 188 µs\n",
            "CPU times: user 267 µs, sys: 864 µs, total: 1.13 ms\n",
            "Wall time: 1.14 ms\n"
          ]
        }
      ]
    },
    {
      "cell_type": "code",
      "source": [
        "# проверим корректность:\n",
        "np.abs(S1 - S2).sum()"
      ],
      "metadata": {
        "colab": {
          "base_uri": "https://localhost:8080/"
        },
        "id": "ghMpURWTe3en",
        "outputId": "c37997bf-54d0-4fdd-a27a-76ef33e8bbfe"
      },
      "execution_count": null,
      "outputs": [
        {
          "output_type": "execute_result",
          "data": {
            "text/plain": [
              "0.0"
            ]
          },
          "metadata": {},
          "execution_count": 389
        }
      ]
    },
    {
      "cell_type": "markdown",
      "metadata": {
        "id": "2InIez3ZQlfw"
      },
      "source": [
        "### Задание 5\n",
        "Написать функцию для кодирование массива (Run-length encoding). Все подряд повторения элементов функция сжимает в один элемент и считает количество повторений. Функция возвращает кортеж из двух векторов одинаковой длины. Первый содержит элементы, а второй — сколько раз их нужно повторить. \n",
        "\n",
        "Пример: encode(np.array([1, 2, 2, 3, 3, 1, 1, 5, 5, 2, 3, 3])) = (np.array[1, 2, 3, 1, 5, 2, 3]), np.array[1, 2, 2, 2, 2, 1, 2])"
      ]
    },
    {
      "cell_type": "code",
      "source": [
        "def encode(a):\n",
        "  res = np.copy(a)[0]\n",
        "\n",
        "  last = None\n",
        "  elevents = []\n",
        "  count_elevents = []\n",
        "  count = 1\n",
        "  for i in range(len(a)):\n",
        "    if a[i]!=last:\n",
        "      elevents.append(last)\n",
        "      count_elevents.append(count)\n",
        "      count = 1\n",
        "      last = a[i]\n",
        "      if i == len(a)-1:\n",
        "        elevents.append(last)\n",
        "        count_elevents.append(count)\n",
        "    else:\n",
        "      count += 1\n",
        "      if i == len(a)-1:\n",
        "        elevents.append(last)\n",
        "        count_elevents.append(count)\n",
        "  return np.array(elevents[1::]), np.array(count_elevents[1::])"
      ],
      "metadata": {
        "id": "ZXtuQrtGyS73"
      },
      "execution_count": null,
      "outputs": []
    },
    {
      "cell_type": "code",
      "source": [
        "def np_encode(a):\n",
        "  inflection_points = a[1:] - a[:-1] == 0 \n",
        "  interv_count_num = np.r_[(-1,np.where(inflection_points==0)[0], len(a)-1)]\n",
        "  count_elements = np.diff(interv_count_num)\n",
        "  inflection_points_indexes = interv_count_num[1::]\n",
        "  elements = a[inflection_points_indexes]\n",
        "  return elements, count_elements"
      ],
      "metadata": {
        "id": "jgwuZ1KHswtO"
      },
      "execution_count": null,
      "outputs": []
    },
    {
      "cell_type": "code",
      "source": [
        "X = np.array([1, 2, 2, 3, 3, 1, 1, 5, 5, 2, 3, 3])\n",
        "%time x, num = np_encode(X)  # засечем время работы функции с NumPy\n",
        "%time x1, num1 = encode(X)  # засечем время работы функции без NumPy"
      ],
      "metadata": {
        "colab": {
          "base_uri": "https://localhost:8080/"
        },
        "id": "FJUqwAZksvKO",
        "outputId": "2aab2501-fa86-41f6-be38-bdd9f2228251"
      },
      "execution_count": null,
      "outputs": [
        {
          "output_type": "stream",
          "name": "stdout",
          "text": [
            "CPU times: user 182 µs, sys: 0 ns, total: 182 µs\n",
            "Wall time: 190 µs\n",
            "CPU times: user 85 µs, sys: 0 ns, total: 85 µs\n",
            "Wall time: 144 µs\n"
          ]
        }
      ]
    },
    {
      "cell_type": "code",
      "source": [
        "# проверим корректность:\n",
        "print(np.abs(x - x1).sum(),np.abs(num - num1).sum())"
      ],
      "metadata": {
        "colab": {
          "base_uri": "https://localhost:8080/"
        },
        "id": "eoBT1ja48L_w",
        "outputId": "6256471b-65ec-43de-b1c9-46113794464e"
      },
      "execution_count": null,
      "outputs": [
        {
          "output_type": "stream",
          "name": "stdout",
          "text": [
            "0 0\n"
          ]
        }
      ]
    },
    {
      "cell_type": "markdown",
      "metadata": {
        "id": "teVCPWZmK7l5"
      },
      "source": [
        "### Задание 6\n",
        "\n",
        "Пусть задан некоторый одномерный массив $X$. Надо построить новый массив, где все элементы с нечетными индексами требуется заменить на число $a$ (если оно не указано, то на 1). Все элементы с четными индексами нужно возвести в куб. Затем записать элементы в обратном порядке относительно их позиций. Массив $X$ при этом должен остаться *без изменений*. В конце требуется слить массив X с преобразованным X и вывести в обратном порядке.  \n",
        "\n",
        "Пример:  \n",
        "X = [100, 200, 300, 400, 500] -> [100, a, 300, a, 500] -> [500^3, a, 300^3, a, 100^3] -> склеиваем -> [100, 200, 300, 400, 500, 500^3, a, 300^3, a, 100^3]"
      ]
    },
    {
      "cell_type": "code",
      "source": [
        "from copy import copy"
      ],
      "metadata": {
        "id": "NlmbIU7gmSv2"
      },
      "execution_count": null,
      "outputs": []
    },
    {
      "cell_type": "code",
      "metadata": {
        "id": "0hmcvfDVK7l-"
      },
      "source": [
        "def np_transformation(X, a=1):\n",
        "  res = X.copy()\n",
        "  res[1::2] = a\n",
        "  res[0::2] = (res[0::2]**3)[::-1]\n",
        "  return np.concatenate((X, res))"
      ],
      "execution_count": null,
      "outputs": []
    },
    {
      "cell_type": "code",
      "source": [
        "def transformation(X, a=1):\n",
        "  res = copy(X)\n",
        "  for i in range(len(X)):\n",
        "    if i %2!=0:\n",
        "      res[i] = a\n",
        "    else:\n",
        "      res[i] = res[i]**3\n",
        "\n",
        "  return list(X)+list(res[::-1])"
      ],
      "metadata": {
        "id": "LsaHKHGTFetU"
      },
      "execution_count": null,
      "outputs": []
    },
    {
      "cell_type": "code",
      "metadata": {
        "id": "r2-JLMhxK7mE",
        "scrolled": true,
        "colab": {
          "base_uri": "https://localhost:8080/"
        },
        "outputId": "d8145bcf-096d-4606-df55-a6382c92b1f5"
      },
      "source": [
        "X = np.array( [100, 200, 300, 400, 500])\n",
        "# функция должна работать ~ в 20 раз быстрее, чем без Numpy \n",
        "%time s1 = np_transformation(X, 5)  # засечем время работы функции с NumPy\n",
        "%time s2 = transformation(X, 5) # засечем время работы функции без NumPy\n",
        "# А как?!!! Откуда в 20 раз?!!! на маленьком векторе вообще прироста нету.... хочу увидеть код, где в 20 раз прирост!!!!"
      ],
      "execution_count": null,
      "outputs": [
        {
          "output_type": "stream",
          "name": "stdout",
          "text": [
            "CPU times: user 55 µs, sys: 6 µs, total: 61 µs\n",
            "Wall time: 65.3 µs\n",
            "CPU times: user 59 µs, sys: 0 ns, total: 59 µs\n",
            "Wall time: 64.6 µs\n"
          ]
        }
      ]
    },
    {
      "cell_type": "code",
      "source": [
        "# проверим корректность:\n",
        "np.abs(s1 - s2).sum()"
      ],
      "metadata": {
        "colab": {
          "base_uri": "https://localhost:8080/"
        },
        "id": "fd_vluosmLSf",
        "outputId": "084285d4-6d6f-4b85-dd93-c05e9de8b770"
      },
      "execution_count": null,
      "outputs": [
        {
          "output_type": "execute_result",
          "data": {
            "text/plain": [
              "0"
            ]
          },
          "metadata": {},
          "execution_count": 429
        }
      ]
    }
  ]
}