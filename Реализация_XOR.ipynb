{
  "nbformat": 4,
  "nbformat_minor": 0,
  "metadata": {
    "colab": {
      "provenance": []
    },
    "kernelspec": {
      "name": "python3",
      "display_name": "Python 3"
    },
    "language_info": {
      "name": "python"
    }
  },
  "cells": [
    {
      "cell_type": "code",
      "metadata": {
        "id": "DgpTS2rzjCS6"
      },
      "source": [
        "# import libraries \n",
        "import torch\n",
        "import torch.nn as nn\n",
        "from torch.autograd import Variable\n",
        "import numpy as np"
      ],
      "execution_count": null,
      "outputs": []
    },
    {
      "cell_type": "code",
      "metadata": {
        "id": "CXEXUNbYjKdi"
      },
      "source": [
        "# create data\n",
        "def get_train_data(operation: str, flag_net):\n",
        "\n",
        "  if flag_net == 1:\n",
        "    X = torch.Tensor([[0., 0., 0.],[0., 1., 0.],[1., 0., 0.],[1., 1., 1.]])\n",
        "  elif flag_net == 2:\n",
        "    X = torch.Tensor([[0., 0.],[0., 1.],[1., 0.],[1., 1.]])\n",
        "  else:\n",
        "    raise ValueError('Введите корректный флаг(номер класса XOR) для получения данных')\n",
        "\n",
        "  if operation == \"XOR\":\n",
        "    y = torch.Tensor([0., 1., 1., 0.]).reshape(X.shape[0], 1)\n",
        "  elif operation == \"AND\":\n",
        "    y = torch.Tensor([0., 0., 0., 1.]).reshape(X.shape[0], 1)\n",
        "  elif operation == \"OR\":\n",
        "    y = torch.Tensor([0., 1., 1., 1.]).reshape(X.shape[0], 1)\n",
        "\n",
        "  return X, y"
      ],
      "execution_count": null,
      "outputs": []
    },
    {
      "cell_type": "markdown",
      "source": [
        "# Задание 1\n",
        "1. Реализуйте и обучите две нейронные сети, реализующиие операции искоючающего ИЛИ:\n",
        "-  Однослойный персептрон, с попполнением состава признаков (class XOR1)\n",
        "-  Двухслойная сеть (class XOR2)\n"
      ],
      "metadata": {
        "id": "fxN4TlYINGzK"
      }
    },
    {
      "cell_type": "markdown",
      "source": [
        "##XOR1"
      ],
      "metadata": {
        "id": "6ztcQYpKcmC3"
      }
    },
    {
      "cell_type": "code",
      "metadata": {
        "id": "Xj9aWn_7jMCv"
      },
      "source": [
        "class XOR1(nn.Module):\n",
        "  \"\"\"\n",
        "  Реализация нейронной сети для операции исключающего или\n",
        "  на основе односслойной сети \n",
        "  \"\"\"\n",
        "  def __init__(self):\n",
        "      super(XOR1, self).__init__()\n",
        "      self.linear = nn.Linear(3, 1)\n",
        "      self.sigmoid = nn.Sigmoid()\n",
        "      pass\n",
        "\n",
        "  def forward(self, input):\n",
        "    x = self.linear(input)\n",
        "    x = self.sigmoid(x)\n",
        "    return x"
      ],
      "execution_count": null,
      "outputs": []
    },
    {
      "cell_type": "code",
      "metadata": {
        "colab": {
          "base_uri": "https://localhost:8080/"
        },
        "id": "82Adr85ZjQ17",
        "outputId": "623231bf-dbba-4fdc-a15b-362dd1456a3d"
      },
      "source": [
        "epochs_1 = 1000\n",
        "model_1 = XOR1()\n",
        "mseloss_1 = nn.BCELoss()\n",
        "optimizer_1 = torch.optim.Adam(model_1.parameters(), lr = 0.05)\n",
        "all_losses_1 = []\n",
        "plot_every_1 = 50\n",
        "model_1.train()\n",
        "\n",
        "for epoch in range(epochs_1):\n",
        "  # remove gradients for iteration\n",
        "  optimizer_1.zero_grad()\n",
        "\n",
        "  X_1, y_1 = get_train_data(\"XOR\", 1)\n",
        "\n",
        "  # input training example and return the prediction\n",
        "  out_1 = model_1(X_1)\n",
        "\n",
        "  # calculate MSE loss\n",
        "  loss_1 = mseloss_1(out_1, y_1)\n",
        "  \n",
        "  # backpropogate through the loss gradiants\n",
        "  loss_1.backward()\n",
        "\n",
        "  # update model weights\n",
        "  optimizer_1.step()\n",
        "\n",
        "  loss_val_1 = loss_1.item()\n",
        "  all_losses_1.append(loss_val_1)\n",
        "  \n",
        "  # print progress\n",
        "  if epoch % plot_every_1 == 0:\n",
        "    print(f'Epoch: {epoch} completed, loss: {loss_val_1}')\n",
        "    "
      ],
      "execution_count": null,
      "outputs": [
        {
          "output_type": "stream",
          "name": "stdout",
          "text": [
            "Epoch: 0 completed, loss: 0.7640358209609985\n",
            "Epoch: 50 completed, loss: 0.4810711741447449\n",
            "Epoch: 100 completed, loss: 0.31457316875457764\n",
            "Epoch: 150 completed, loss: 0.21740511059761047\n",
            "Epoch: 200 completed, loss: 0.15837377309799194\n",
            "Epoch: 250 completed, loss: 0.12051359564065933\n",
            "Epoch: 300 completed, loss: 0.09495195746421814\n",
            "Epoch: 350 completed, loss: 0.07691384851932526\n",
            "Epoch: 400 completed, loss: 0.06370562314987183\n",
            "Epoch: 450 completed, loss: 0.053731948137283325\n",
            "Epoch: 500 completed, loss: 0.04600437358021736\n",
            "Epoch: 550 completed, loss: 0.039885856211185455\n",
            "Epoch: 600 completed, loss: 0.03495097532868385\n",
            "Epoch: 650 completed, loss: 0.030907150357961655\n",
            "Epoch: 700 completed, loss: 0.02754758484661579\n",
            "Epoch: 750 completed, loss: 0.024722781032323837\n",
            "Epoch: 800 completed, loss: 0.022322343662381172\n",
            "Epoch: 850 completed, loss: 0.02026333101093769\n",
            "Epoch: 900 completed, loss: 0.018482379615306854\n",
            "Epoch: 950 completed, loss: 0.016930345445871353\n"
          ]
        }
      ]
    },
    {
      "cell_type": "code",
      "metadata": {
        "colab": {
          "base_uri": "https://localhost:8080/",
          "height": 269
        },
        "id": "05MIuGmGjSre",
        "outputId": "0ef4990b-bfa2-4002-92bf-504cfa68315f"
      },
      "source": [
        "import matplotlib.pyplot as plt\n",
        "plt.plot(all_losses_1)\n",
        "plt.ylabel('Loss')\n",
        "plt.show()"
      ],
      "execution_count": null,
      "outputs": [
        {
          "output_type": "display_data",
          "data": {
            "text/plain": [
              "<Figure size 432x288 with 1 Axes>"
            ],
            "image/png": "[encoded data removed]"
          },
          "metadata": {
            "needs_background": "light"
          }
        }
      ]
    },
    {
      "cell_type": "code",
      "metadata": {
        "colab": {
          "base_uri": "https://localhost:8080/"
        },
        "id": "qHRQVH_6jUWd",
        "outputId": "c0923e74-72a6-46f4-8cd8-a670480250c3"
      },
      "source": [
        "# show weights and bias\n",
        "for name, param in model_1.named_parameters():\n",
        "    if param.requires_grad:\n",
        "        print(name, param.data)"
      ],
      "execution_count": null,
      "outputs": [
        {
          "output_type": "stream",
          "name": "stdout",
          "text": [
            "linear.weight tensor([[  8.2773,   8.2701, -16.6202]])\n",
            "linear.bias tensor([-4.1156])\n"
          ]
        }
      ]
    },
    {
      "cell_type": "code",
      "metadata": {
        "colab": {
          "base_uri": "https://localhost:8080/"
        },
        "id": "RB_Y0q_VjWAP",
        "outputId": "d2d2c5ba-eb88-44c7-d85a-d0da67aefba2"
      },
      "source": [
        "from torch.nn.modules.container import ModuleList\n",
        "# test input\n",
        "model_1.eval()\n",
        "input_1 = torch.tensor([[0.0, 1., 0.0]])\n",
        "out_1 = model_1(input_1)\n",
        "print(out_1)"
      ],
      "execution_count": null,
      "outputs": [
        {
          "output_type": "stream",
          "name": "stdout",
          "text": [
            "tensor([[0.9845]], grad_fn=<SigmoidBackward0>)\n"
          ]
        }
      ]
    },
    {
      "cell_type": "code",
      "source": [
        "model_1.eval()\n",
        "\n",
        "# draw heatmap\n",
        "sz_1 = 11\n",
        "x_1 = np.linspace(0, 1, sz_1, dtype = np.float32)\n",
        "y_1 = np.linspace(1, 0, sz_1, dtype = np.float32)\n",
        "x_1 = np.repeat(x_1,sz_1).reshape((sz_1,sz_1))\n",
        "y_1 = np.repeat(y_1,sz_1).reshape((sz_1,sz_1))\n",
        "xy_1 = np.dstack((x_1.T,y_1,x_1.T*y_1))\n",
        "\n",
        "with torch.no_grad():\n",
        "  input_1 = torch.from_numpy(xy_1.reshape((sz_1*sz_1,3)))\n",
        "  out_1 = model_1(input_1)\n",
        "  out_1 = out_1.numpy().reshape((sz_1,sz_1))\n",
        "\n",
        "fig_1, ax_1 = plt.subplots()\n",
        "im_1 = ax_1.imshow(out_1)\n",
        "fig_1.colorbar(im_1, ax=ax_1, label='colorbar')\n",
        "plt.show()"
      ],
      "metadata": {
        "colab": {
          "base_uri": "https://localhost:8080/",
          "height": 265
        },
        "id": "LljLqDdxO9YZ",
        "outputId": "26b8dd4c-e3db-4ae7-8052-bdd7c14dc177"
      },
      "execution_count": null,
      "outputs": [
        {
          "output_type": "display_data",
          "data": {
            "text/plain": [
              "<Figure size 432x288 with 2 Axes>"
            ],
            "image/png": "[encoded data removed]"
          },
          "metadata": {
            "needs_background": "light"
          }
        }
      ]
    },
    {
      "cell_type": "markdown",
      "source": [
        "##XOR2"
      ],
      "metadata": {
        "id": "SR2R-bWpctjP"
      }
    },
    {
      "cell_type": "code",
      "source": [
        "class XOR2(nn.Module):\n",
        "    \"\"\"\n",
        "    Реализация нейронной сети для операции исключающего или\n",
        "    на основе двухслойной сети \n",
        "    \"\"\"\n",
        "    def __init__(self):\n",
        "      super(XOR2, self).__init__()\n",
        "      self.fc1  = nn.Linear(2, 5)\n",
        "      self.act1  = nn.Sigmoid()\n",
        "      self.fc2  = nn.Linear(5, 1)\n",
        "      self.act2  = nn.Sigmoid()\n",
        "\n",
        "    def forward(self, input):\n",
        "      x = self.fc1(input)\n",
        "      x = self.act1(x)\n",
        "      x = self.fc2(x)\n",
        "      x = self.act2(x)\n",
        "      return x"
      ],
      "metadata": {
        "id": "A2CPumijb4pn"
      },
      "execution_count": null,
      "outputs": []
    },
    {
      "cell_type": "code",
      "source": [
        "epochs_2 = 1000\n",
        "model_2 = XOR2()\n",
        "mseloss_2 = nn.BCELoss()\n",
        "optimizer_2 = torch.optim.Adam(model_2.parameters(), lr = 0.05)\n",
        "all_losses_2 = []\n",
        "plot_every_2 = 50\n",
        "model_2.train()\n",
        "\n",
        "for epoch in range(epochs_2):\n",
        "  # remove gradients for iteration\n",
        "  optimizer_2.zero_grad()\n",
        "\n",
        "  X_2, y_2 = get_train_data(\"XOR\", 2)\n",
        "\n",
        "  # input training example and return the prediction\n",
        "  out_2 = model_2(X_2)\n",
        "\n",
        "  # calculate MSE loss\n",
        "  loss_2 = mseloss_2(out_2, y_2)\n",
        "  \n",
        "  # backpropogate through the loss gradiants\n",
        "  loss_2.backward()\n",
        "\n",
        "  # update model weights\n",
        "  optimizer_2.step()\n",
        "\n",
        "  loss_val_2 = loss_2.item()\n",
        "  all_losses_2.append(loss_val_2)\n",
        "  \n",
        "  # print progress\n",
        "  if epoch % plot_every_2 == 0:\n",
        "    print(f'Epoch: {epoch} completed, loss: {loss_val_2}')\n",
        "    "
      ],
      "metadata": {
        "id": "yPq14CRqb_vv",
        "outputId": "4dd45c14-ec28-4771-add4-6e2bf54a1eac",
        "colab": {
          "base_uri": "https://localhost:8080/"
        }
      },
      "execution_count": null,
      "outputs": [
        {
          "output_type": "stream",
          "name": "stdout",
          "text": [
            "Epoch: 0 completed, loss: 0.6950802803039551\n",
            "Epoch: 50 completed, loss: 0.39089471101760864\n",
            "Epoch: 100 completed, loss: 0.03363817557692528\n",
            "Epoch: 150 completed, loss: 0.010705635882914066\n",
            "Epoch: 200 completed, loss: 0.006203856784850359\n",
            "Epoch: 250 completed, loss: 0.00424323882907629\n",
            "Epoch: 300 completed, loss: 0.0031511415727436543\n",
            "Epoch: 350 completed, loss: 0.0024621766060590744\n",
            "Epoch: 400 completed, loss: 0.0019922531209886074\n",
            "Epoch: 450 completed, loss: 0.0016538650961592793\n",
            "Epoch: 500 completed, loss: 0.0014002323150634766\n",
            "Epoch: 550 completed, loss: 0.0012041741283610463\n",
            "Epoch: 600 completed, loss: 0.0010488254483789206\n",
            "Epoch: 650 completed, loss: 0.0009232617449015379\n",
            "Epoch: 700 completed, loss: 0.0008199983858503401\n",
            "Epoch: 750 completed, loss: 0.0007338675204664469\n",
            "Epoch: 800 completed, loss: 0.0006611810531467199\n",
            "Epoch: 850 completed, loss: 0.0005991620128042996\n",
            "Epoch: 900 completed, loss: 0.0005456911167129874\n",
            "Epoch: 950 completed, loss: 0.0004992756294086576\n"
          ]
        }
      ]
    },
    {
      "cell_type": "code",
      "source": [
        "import matplotlib.pyplot as plt\n",
        "plt.plot(all_losses_2)\n",
        "plt.ylabel('Loss')\n",
        "plt.show()"
      ],
      "metadata": {
        "id": "2CStNy_db__D",
        "outputId": "241e383c-284c-4ef6-b0f9-659d5ca13a84",
        "colab": {
          "base_uri": "https://localhost:8080/",
          "height": 265
        }
      },
      "execution_count": null,
      "outputs": [
        {
          "output_type": "display_data",
          "data": {
            "text/plain": [
              "<Figure size 432x288 with 1 Axes>"
            ],
            "image/png": "[encoded data removed]"
          },
          "metadata": {
            "needs_background": "light"
          }
        }
      ]
    },
    {
      "cell_type": "code",
      "source": [
        "# show weights and bias\n",
        "for name, param in model_2.named_parameters():\n",
        "    if param.requires_grad:\n",
        "        print(name, param.data)"
      ],
      "metadata": {
        "id": "ousW17wvcADW",
        "outputId": "fe7a0ffb-de84-42d9-e655-33288274501b",
        "colab": {
          "base_uri": "https://localhost:8080/"
        }
      },
      "execution_count": null,
      "outputs": [
        {
          "output_type": "stream",
          "name": "stdout",
          "text": [
            "fc1.weight tensor([[-6.6869, -6.2675],\n",
            "        [-6.9606,  6.1800],\n",
            "        [-4.7558, -4.3960],\n",
            "        [-6.7299, -6.9936],\n",
            "        [-6.2829,  7.0928]])\n",
            "fc1.bias tensor([10.2824,  4.0252,  7.3994,  3.3255, -4.0068])\n",
            "fc2.weight tensor([[ 6.8581, -7.6126,  4.7035, -9.1644,  7.1369]])\n",
            "fc2.bias tensor([-2.5604])\n"
          ]
        }
      ]
    },
    {
      "cell_type": "code",
      "source": [
        "from torch.nn.modules.container import ModuleList\n",
        "# test input\n",
        "model_2.eval()\n",
        "input_2 = torch.tensor([[0.0, 1.]])\n",
        "out_2 = model_2(input_2)\n",
        "print(out_2)"
      ],
      "metadata": {
        "id": "ZzXhkJSfcAF-",
        "outputId": "09878ddd-67cb-4b0f-cb56-9074e11a6501",
        "colab": {
          "base_uri": "https://localhost:8080/"
        }
      },
      "execution_count": null,
      "outputs": [
        {
          "output_type": "stream",
          "name": "stdout",
          "text": [
            "tensor([[0.9995]], grad_fn=<SigmoidBackward0>)\n"
          ]
        }
      ]
    },
    {
      "cell_type": "code",
      "source": [
        "model_2.eval()\n",
        "\n",
        "# draw heatmap\n",
        "sz_2 = 11\n",
        "x_2 = np.linspace(0, 1, sz_2, dtype = np.float32)\n",
        "y_2 = np.linspace(1, 0, sz_2, dtype = np.float32)\n",
        "x_2 = np.repeat(x_2,sz_2).reshape((sz_2,sz_2))\n",
        "y_2 = np.repeat(y_2,sz_2).reshape((sz_2,sz_2))\n",
        "xy_2 = np.dstack((x_2.T,y_2))\n",
        "\n",
        "with torch.no_grad():\n",
        "  input_2 = torch.from_numpy(xy_2.reshape((sz_2*sz_2,2)))\n",
        "  out_2 = model_2(input_2)\n",
        "  out_2 = out_2.numpy().reshape((sz_2,sz_2))\n",
        "\n",
        "fig_2, ax_2 = plt.subplots()\n",
        "im_2 = ax_2.imshow(out_2)\n",
        "fig_2.colorbar(im_2, ax=ax_2, label='colorbar')\n",
        "plt.show()"
      ],
      "metadata": {
        "id": "ePJ2LpAhcPz3",
        "outputId": "06d9bdf5-2ca9-4325-d59e-70f90ed0ca91",
        "colab": {
          "base_uri": "https://localhost:8080/",
          "height": 265
        }
      },
      "execution_count": null,
      "outputs": [
        {
          "output_type": "display_data",
          "data": {
            "text/plain": [
              "<Figure size 432x288 with 2 Axes>"
            ],
            "image/png": "[encoded data removed]"
          },
          "metadata": {
            "needs_background": "light"
          }
        }
      ]
    }
  ]
}